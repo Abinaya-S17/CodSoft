{
  "nbformat": 4,
  "nbformat_minor": 0,
  "metadata": {
    "colab": {
      "provenance": [],
      "authorship_tag": "ABX9TyM9OSpyE+6ugkzsLDsDlQf6",
      "include_colab_link": true
    },
    "kernelspec": {
      "name": "python3",
      "display_name": "Python 3"
    },
    "language_info": {
      "name": "python"
    }
  },
  "cells": [
    {
      "cell_type": "markdown",
      "metadata": {
        "id": "view-in-github",
        "colab_type": "text"
      },
      "source": [
        "<a href=\"https://colab.research.google.com/github/Abinaya-S17/CodSoft/blob/main/codsoft.ipynb\" target=\"_parent\"><img src=\"https://colab.research.google.com/assets/colab-badge.svg\" alt=\"Open In Colab\"/></a>"
      ]
    },
    {
      "cell_type": "markdown",
      "source": [],
      "metadata": {
        "id": "z02fXPLIQUo-"
      }
    },
    {
      "cell_type": "markdown",
      "source": [],
      "metadata": {
        "id": "wEzVM3kMQVTl"
      }
    },
    {
      "cell_type": "code",
      "source": [
        "import numpy as np\n",
        "import pandas as pd\n",
        "import matplotlib.pyplot as plt\n",
        "import seaborn as sns\n",
        "from sklearn.feature_extraction.text import TfidfVectorizer\n",
        "from sklearn.model_selection import train_test_split\n",
        "from sklearn.naive_bayes import MultinomialNB  # Typo fixed: MultinominalNB -> MultinomialNB\n",
        "from sklearn.metrics import accuracy_score, confusion_matrix, classification_report, r2_score  # Typo fixed: metrices -> metrics\n",
        "from sklearn.preprocessing import LabelEncoder\n",
        "from sklearn.linear_model import LogisticRegression\n",
        "from sklearn.preprocessing import StandardScaler  # Typo fixed: StandardScaler imported correctly\n",
        "from sklearn.svm import LinearSVC\n"
      ],
      "metadata": {
        "id": "qmxNQMgsaVIX"
      },
      "execution_count": null,
      "outputs": []
    },
    {
      "cell_type": "code",
      "source": [
        "df = pd.read_csv(\"/content/train_data.txt\",sep=\":::\",names=['NO','MOVIE_NAME','GENRE','DESCRIPTION'])"
      ],
      "metadata": {
        "colab": {
          "base_uri": "https://localhost:8080/"
        },
        "id": "g2dHVLEwaXnG",
        "outputId": "1cf2a0b6-ccbb-4232-ed11-874a66004f46"
      },
      "execution_count": null,
      "outputs": [
        {
          "output_type": "stream",
          "name": "stderr",
          "text": [
            "<ipython-input-9-b1a88c6dadca>:1: ParserWarning: Falling back to the 'python' engine because the 'c' engine does not support regex separators (separators > 1 char and different from '\\s+' are interpreted as regex); you can avoid this warning by specifying engine='python'.\n",
            "  df = pd.read_csv(\"/content/train_data.txt\",sep=\":::\",names=['NO','MOVIE_NAME','GENRE','DESCRIPTION'])\n"
          ]
        }
      ]
    },
    {
      "cell_type": "code",
      "source": [
        "print(df)"
      ],
      "metadata": {
        "colab": {
          "base_uri": "https://localhost:8080/"
        },
        "id": "JFHQmcpfbkDV",
        "outputId": "d3a6ab9d-fb34-47b5-b1d3-98a82b905abc"
      },
      "execution_count": null,
      "outputs": [
        {
          "output_type": "stream",
          "name": "stdout",
          "text": [
            "          NO                          MOVIE_NAME        GENRE  \\\n",
            "0          1       Oscar et la dame rose (2009)        drama    \n",
            "1          2                       Cupid (1997)     thriller    \n",
            "2          3   Young, Wild and Wonderful (1980)        adult    \n",
            "3          4              The Secret Sin (1915)        drama    \n",
            "4          5             The Unrecovered (2007)        drama    \n",
            "...      ...                                 ...          ...   \n",
            "19161  19162                    Granitza (1994)        drama    \n",
            "19162  19163                     Vintage (????)        drama    \n",
            "19163  19164               Slaughterbots (2017)        short    \n",
            "19164  19165                Dwitiyo Ripu (2015)        drama    \n",
            "19165  19166       \"Soldiers of Fortune\" (1955)    adventure    \n",
            "\n",
            "                                             DESCRIPTION  \n",
            "0       Listening in to a conversation between his do...  \n",
            "1       A brother and sister with a past incestuous r...  \n",
            "2       As the bus empties the students for their fie...  \n",
            "3       To help their unemployed father make ends mee...  \n",
            "4       The film's title refers not only to the un-re...  \n",
            "...                                                  ...  \n",
            "19161   An autumn day in the 1970s. In the mountains ...  \n",
            "19162   A psychological dramedy, where a well known A...  \n",
            "19163   In response to growing concerns about autonom...  \n",
            "19164   Raktim Bose is struggling to publish his firs...  \n",
            "19165   Soldiers of Fortune is a 1955 syndicated half...  \n",
            "\n",
            "[19166 rows x 4 columns]\n"
          ]
        }
      ]
    },
    {
      "cell_type": "code",
      "source": [
        "test_data=pd.read_csv(\"/content/train_data.txt\",sep=\":::\",names=['NO','MOVIE_NAME','GENRE','DESCRIPTION'])"
      ],
      "metadata": {
        "colab": {
          "base_uri": "https://localhost:8080/"
        },
        "id": "jwb3YczobtqR",
        "outputId": "05fcd69c-75f7-4385-bc9c-7bd9a18b036b"
      },
      "execution_count": null,
      "outputs": [
        {
          "output_type": "stream",
          "name": "stderr",
          "text": [
            "<ipython-input-11-10c47e8aa7bc>:1: ParserWarning: Falling back to the 'python' engine because the 'c' engine does not support regex separators (separators > 1 char and different from '\\s+' are interpreted as regex); you can avoid this warning by specifying engine='python'.\n",
            "  test_data=pd.read_csv(\"/content/train_data.txt\",sep=\":::\",names=['NO','MOVIE_NAME','GENRE','DESCRIPTION'])\n"
          ]
        }
      ]
    },
    {
      "cell_type": "code",
      "source": [
        "test_data_solution=pd.read_csv(\"/content/test_data_solution.txt\",sep=\":::\",names=['NO','MOVIE_NAME','GENRE','DESCRIPTION'])"
      ],
      "metadata": {
        "colab": {
          "base_uri": "https://localhost:8080/"
        },
        "id": "pofMoZQqccv7",
        "outputId": "30095f62-bd6e-4bc1-aab7-63f873c8537e"
      },
      "execution_count": null,
      "outputs": [
        {
          "output_type": "stream",
          "name": "stderr",
          "text": [
            "<ipython-input-12-439b5a6c1fa0>:1: ParserWarning: Falling back to the 'python' engine because the 'c' engine does not support regex separators (separators > 1 char and different from '\\s+' are interpreted as regex); you can avoid this warning by specifying engine='python'.\n",
            "  test_data_solution=pd.read_csv(\"/content/test_data_solution.txt\",sep=\":::\",names=['NO','MOVIE_NAME','GENRE','DESCRIPTION'])\n"
          ]
        }
      ]
    },
    {
      "cell_type": "code",
      "source": [
        "print(test_data)"
      ],
      "metadata": {
        "colab": {
          "base_uri": "https://localhost:8080/"
        },
        "id": "DxgD3_QOcyqI",
        "outputId": "784814ac-9920-4359-d846-531fccf9d6a3"
      },
      "execution_count": null,
      "outputs": [
        {
          "output_type": "stream",
          "name": "stdout",
          "text": [
            "          NO                                   MOVIE_NAME          GENRE  \\\n",
            "0          1                Oscar et la dame rose (2009)          drama    \n",
            "1          2                                Cupid (1997)       thriller    \n",
            "2          3            Young, Wild and Wonderful (1980)          adult    \n",
            "3          4                       The Secret Sin (1915)          drama    \n",
            "4          5                      The Unrecovered (2007)          drama    \n",
            "...      ...                                          ...            ...   \n",
            "46506  46507                      Girls Night Out (1997)          short    \n",
            "46507  46508                     Ripped to Shreds (????)         horror    \n",
            "46508  46509                                Dolls (2006)          short    \n",
            "46509  46510   Kein Zurück - Studers neuster Fall (2007)          crime    \n",
            "46510  46511                Let There Be Light (2017/II)    documentary    \n",
            "\n",
            "                                             DESCRIPTION  \n",
            "0       Listening in to a conversation between his do...  \n",
            "1       A brother and sister with a past incestuous r...  \n",
            "2       As the bus empties the students for their fie...  \n",
            "3       To help their unemployed father make ends mee...  \n",
            "4       The film's title refers not only to the un-re...  \n",
            "...                                                  ...  \n",
            "46506   On a Friday evening, Manhattan gallery owner ...  \n",
            "46507   A northern Minnesota Doctor is developing a n...  \n",
            "46508   Inspired by a story that appeared in a 1950's...  \n",
            "46509   Detective Claudia Studer (Judith Hofmann) is ...  \n",
            "46510   Let There Be Light follows the story of dedic...  \n",
            "\n",
            "[46511 rows x 4 columns]\n"
          ]
        }
      ]
    },
    {
      "cell_type": "code",
      "source": [
        "print(test_data_solution)"
      ],
      "metadata": {
        "colab": {
          "base_uri": "https://localhost:8080/"
        },
        "id": "SLaCy9wbc4T5",
        "outputId": "c3f545f0-38fd-4313-c758-ae0127b45a43"
      },
      "execution_count": null,
      "outputs": [
        {
          "output_type": "stream",
          "name": "stdout",
          "text": [
            "        NO                                        MOVIE_NAME          GENRE  \\\n",
            "0        1                             Edgar's Lunch (1998)       thriller    \n",
            "1        2                         La guerra de papá (1977)         comedy    \n",
            "2        3                      Off the Beaten Track (2010)    documentary    \n",
            "3        4                           Meu Amigo Hindu (2015)          drama    \n",
            "4        5                                Er nu zhai (1955)          drama    \n",
            "...    ...                                               ...            ...   \n",
            "3197  3198                                Challenger (????)          drama    \n",
            "3198  3199   \"Streetball Extreme: Battle for Europe\" (2006)          sport    \n",
            "3199  3200               One Day We Arrived in Japan (2017)    documentary    \n",
            "3200  3201                                       Tal (????)          drama    \n",
            "3201  3202                         A Host of Trouble (2005)          short    \n",
            "\n",
            "                                            DESCRIPTION  \n",
            "0      L.R. Brane loves his life - his car, his apar...  \n",
            "1      Spain, March 1964: Quico is a very naughty ch...  \n",
            "2      One year in the life of Albin and his family ...  \n",
            "3      His father has died, he hasn't spoken with hi...  \n",
            "4      Before he was known internationally as a mart...  \n",
            "...                                                 ...  \n",
            "3197   The film examines the investigation into the ...  \n",
            "3198   8 of the best Streetball players from the UK ...  \n",
            "3199   An intimate epic spanning 10 years and 10,000...  \n",
            "3200   When Western propaganda painted a drab, gray ...  \n",
            "3201   A HOST OF TROUBLE is set in 1955 in a working...  \n",
            "\n",
            "[3202 rows x 4 columns]\n"
          ]
        }
      ]
    },
    {
      "cell_type": "code",
      "source": [
        "df['DESCRIPTION'].fillna(\"\",inplace=True)\n",
        "print(df['DESCRIPTION'])"
      ],
      "metadata": {
        "colab": {
          "base_uri": "https://localhost:8080/"
        },
        "id": "Sh3LWGwXc95p",
        "outputId": "0107964d-a882-4ea6-8726-c4803625ce30"
      },
      "execution_count": null,
      "outputs": [
        {
          "output_type": "stream",
          "name": "stdout",
          "text": [
            "0         Listening in to a conversation between his do...\n",
            "1         A brother and sister with a past incestuous r...\n",
            "2         As the bus empties the students for their fie...\n",
            "3         To help their unemployed father make ends mee...\n",
            "4         The film's title refers not only to the un-re...\n",
            "                               ...                        \n",
            "19161     An autumn day in the 1970s. In the mountains ...\n",
            "19162     A psychological dramedy, where a well known A...\n",
            "19163     In response to growing concerns about autonom...\n",
            "19164     Raktim Bose is struggling to publish his firs...\n",
            "19165     Soldiers of Fortune is a 1955 syndicated half...\n",
            "Name: DESCRIPTION, Length: 19166, dtype: object\n"
          ]
        }
      ]
    },
    {
      "cell_type": "code",
      "source": [
        "test_data['DESCRIPTION'].fillna(\"\",inplace=True)\n",
        "print(test_data['DESCRIPTION'])"
      ],
      "metadata": {
        "colab": {
          "base_uri": "https://localhost:8080/"
        },
        "id": "ngYRM_XrdPcW",
        "outputId": "3cc2ede8-19ba-4680-aa20-bf75ec936dac"
      },
      "execution_count": null,
      "outputs": [
        {
          "output_type": "stream",
          "name": "stdout",
          "text": [
            "0         Listening in to a conversation between his do...\n",
            "1         A brother and sister with a past incestuous r...\n",
            "2         As the bus empties the students for their fie...\n",
            "3         To help their unemployed father make ends mee...\n",
            "4         The film's title refers not only to the un-re...\n",
            "                               ...                        \n",
            "46506     On a Friday evening, Manhattan gallery owner ...\n",
            "46507     A northern Minnesota Doctor is developing a n...\n",
            "46508     Inspired by a story that appeared in a 1950's...\n",
            "46509     Detective Claudia Studer (Judith Hofmann) is ...\n",
            "46510     Let There Be Light follows the story of dedic...\n",
            "Name: DESCRIPTION, Length: 46511, dtype: object\n"
          ]
        }
      ]
    },
    {
      "cell_type": "code",
      "source": [
        "vectorizer=TfidfVectorizer(stop_words='english',max_features=1000)\n",
        "X_train=vectorizer.fit_transform(df['DESCRIPTION'])\n",
        "X_test=vectorizer.fit_transform(test_data['DESCRIPTION'])\n",
        "le=LabelEncoder()\n",
        "Y_train=le.fit_transform(df['GENRE'])\n",
        "Y_test=le.transform(test_data_solution['GENRE'])\n",
        "x_train,x_test,y_train,y_test=train_test_split(X_train,Y_train,test_size=0.2,random_state=42)"
      ],
      "metadata": {
        "id": "4fJY1V9ideIj"
      },
      "execution_count": null,
      "outputs": []
    },
    {
      "cell_type": "code",
      "source": [
        "v=LinearSVC()\n",
        "v.fit(x_train,y_train)\n",
        "prediction=v.predict(x_test)\n",
        "print(\"Accuracy:\",accuracy_score(y_test,prediction))\n",
        "print(\"Classification report:\",classification_report(y_test,prediction))"
      ],
      "metadata": {
        "colab": {
          "base_uri": "https://localhost:8080/"
        },
        "id": "eu4sAVYaerYK",
        "outputId": "b2e53ff1-4695-4509-8a4d-f063f978a62b"
      },
      "execution_count": null,
      "outputs": [
        {
          "output_type": "stream",
          "name": "stderr",
          "text": [
            "/usr/local/lib/python3.10/dist-packages/sklearn/svm/_classes.py:32: FutureWarning: The default value of `dual` will change from `True` to `'auto'` in 1.5. Set the value of `dual` explicitly to suppress the warning.\n",
            "  warnings.warn(\n"
          ]
        },
        {
          "output_type": "stream",
          "name": "stdout",
          "text": [
            "Accuracy: 0.5026082420448618\n",
            "Classification report:               precision    recall  f1-score   support\n",
            "\n",
            "           0       0.15      0.12      0.14        82\n",
            "           1       0.44      0.37      0.40        30\n",
            "           2       0.22      0.15      0.18        54\n",
            "           3       0.29      0.11      0.16        45\n",
            "           4       0.00      0.00      0.00        23\n",
            "           5       0.44      0.44      0.44       512\n",
            "           6       0.00      0.00      0.00        34\n",
            "           7       0.61      0.78      0.69       931\n",
            "           8       0.52      0.67      0.58       956\n",
            "           9       0.31      0.14      0.19        64\n",
            "          10       0.00      0.00      0.00        29\n",
            "          11       0.70      0.47      0.56        15\n",
            "          12       0.00      0.00      0.00        17\n",
            "          13       0.50      0.41      0.45       153\n",
            "          14       0.57      0.55      0.56        55\n",
            "          15       0.43      0.17      0.24        18\n",
            "          16       0.20      0.04      0.06        28\n",
            "          17       0.50      0.11      0.18         9\n",
            "          18       0.28      0.14      0.19        71\n",
            "          19       0.50      0.07      0.13        40\n",
            "          20       0.41      0.28      0.33        50\n",
            "          21       0.32      0.23      0.27       374\n",
            "          22       0.40      0.32      0.36        25\n",
            "          23       0.53      0.31      0.39        29\n",
            "          24       0.11      0.06      0.07       109\n",
            "          25       0.00      0.00      0.00         6\n",
            "          26       0.65      0.68      0.67        75\n",
            "\n",
            "    accuracy                           0.50      3834\n",
            "   macro avg       0.34      0.24      0.27      3834\n",
            "weighted avg       0.46      0.50      0.47      3834\n",
            "\n"
          ]
        }
      ]
    },
    {
      "cell_type": "code",
      "source": [
        "naive=MultinomialNB()\n",
        "naive.fit(x_train,y_train)"
      ],
      "metadata": {
        "colab": {
          "base_uri": "https://localhost:8080/",
          "height": 74
        },
        "id": "fL2TPs8zfsLe",
        "outputId": "93231d65-2395-44b0-f829-faf7846d37a0"
      },
      "execution_count": null,
      "outputs": [
        {
          "output_type": "execute_result",
          "data": {
            "text/plain": [
              "MultinomialNB()"
            ],
            "text/html": [
              "<style>#sk-container-id-1 {color: black;}#sk-container-id-1 pre{padding: 0;}#sk-container-id-1 div.sk-toggleable {background-color: white;}#sk-container-id-1 label.sk-toggleable__label {cursor: pointer;display: block;width: 100%;margin-bottom: 0;padding: 0.3em;box-sizing: border-box;text-align: center;}#sk-container-id-1 label.sk-toggleable__label-arrow:before {content: \"▸\";float: left;margin-right: 0.25em;color: #696969;}#sk-container-id-1 label.sk-toggleable__label-arrow:hover:before {color: black;}#sk-container-id-1 div.sk-estimator:hover label.sk-toggleable__label-arrow:before {color: black;}#sk-container-id-1 div.sk-toggleable__content {max-height: 0;max-width: 0;overflow: hidden;text-align: left;background-color: #f0f8ff;}#sk-container-id-1 div.sk-toggleable__content pre {margin: 0.2em;color: black;border-radius: 0.25em;background-color: #f0f8ff;}#sk-container-id-1 input.sk-toggleable__control:checked~div.sk-toggleable__content {max-height: 200px;max-width: 100%;overflow: auto;}#sk-container-id-1 input.sk-toggleable__control:checked~label.sk-toggleable__label-arrow:before {content: \"▾\";}#sk-container-id-1 div.sk-estimator input.sk-toggleable__control:checked~label.sk-toggleable__label {background-color: #d4ebff;}#sk-container-id-1 div.sk-label input.sk-toggleable__control:checked~label.sk-toggleable__label {background-color: #d4ebff;}#sk-container-id-1 input.sk-hidden--visually {border: 0;clip: rect(1px 1px 1px 1px);clip: rect(1px, 1px, 1px, 1px);height: 1px;margin: -1px;overflow: hidden;padding: 0;position: absolute;width: 1px;}#sk-container-id-1 div.sk-estimator {font-family: monospace;background-color: #f0f8ff;border: 1px dotted black;border-radius: 0.25em;box-sizing: border-box;margin-bottom: 0.5em;}#sk-container-id-1 div.sk-estimator:hover {background-color: #d4ebff;}#sk-container-id-1 div.sk-parallel-item::after {content: \"\";width: 100%;border-bottom: 1px solid gray;flex-grow: 1;}#sk-container-id-1 div.sk-label:hover label.sk-toggleable__label {background-color: #d4ebff;}#sk-container-id-1 div.sk-serial::before {content: \"\";position: absolute;border-left: 1px solid gray;box-sizing: border-box;top: 0;bottom: 0;left: 50%;z-index: 0;}#sk-container-id-1 div.sk-serial {display: flex;flex-direction: column;align-items: center;background-color: white;padding-right: 0.2em;padding-left: 0.2em;position: relative;}#sk-container-id-1 div.sk-item {position: relative;z-index: 1;}#sk-container-id-1 div.sk-parallel {display: flex;align-items: stretch;justify-content: center;background-color: white;position: relative;}#sk-container-id-1 div.sk-item::before, #sk-container-id-1 div.sk-parallel-item::before {content: \"\";position: absolute;border-left: 1px solid gray;box-sizing: border-box;top: 0;bottom: 0;left: 50%;z-index: -1;}#sk-container-id-1 div.sk-parallel-item {display: flex;flex-direction: column;z-index: 1;position: relative;background-color: white;}#sk-container-id-1 div.sk-parallel-item:first-child::after {align-self: flex-end;width: 50%;}#sk-container-id-1 div.sk-parallel-item:last-child::after {align-self: flex-start;width: 50%;}#sk-container-id-1 div.sk-parallel-item:only-child::after {width: 0;}#sk-container-id-1 div.sk-dashed-wrapped {border: 1px dashed gray;margin: 0 0.4em 0.5em 0.4em;box-sizing: border-box;padding-bottom: 0.4em;background-color: white;}#sk-container-id-1 div.sk-label label {font-family: monospace;font-weight: bold;display: inline-block;line-height: 1.2em;}#sk-container-id-1 div.sk-label-container {text-align: center;}#sk-container-id-1 div.sk-container {/* jupyter's `normalize.less` sets `[hidden] { display: none; }` but bootstrap.min.css set `[hidden] { display: none !important; }` so we also need the `!important` here to be able to override the default hidden behavior on the sphinx rendered scikit-learn.org. See: https://github.com/scikit-learn/scikit-learn/issues/21755 */display: inline-block !important;position: relative;}#sk-container-id-1 div.sk-text-repr-fallback {display: none;}</style><div id=\"sk-container-id-1\" class=\"sk-top-container\"><div class=\"sk-text-repr-fallback\"><pre>MultinomialNB()</pre><b>In a Jupyter environment, please rerun this cell to show the HTML representation or trust the notebook. <br />On GitHub, the HTML representation is unable to render, please try loading this page with nbviewer.org.</b></div><div class=\"sk-container\" hidden><div class=\"sk-item\"><div class=\"sk-estimator sk-toggleable\"><input class=\"sk-toggleable__control sk-hidden--visually\" id=\"sk-estimator-id-1\" type=\"checkbox\" checked><label for=\"sk-estimator-id-1\" class=\"sk-toggleable__label sk-toggleable__label-arrow\">MultinomialNB</label><div class=\"sk-toggleable__content\"><pre>MultinomialNB()</pre></div></div></div></div></div>"
            ]
          },
          "metadata": {},
          "execution_count": 21
        }
      ]
    },
    {
      "cell_type": "code",
      "source": [
        "naive.predict(X_test)"
      ],
      "metadata": {
        "colab": {
          "base_uri": "https://localhost:8080/"
        },
        "id": "xzPwsH5of6YW",
        "outputId": "ba32eae6-ab8c-4a45-80df-a5ef8cec40d9"
      },
      "execution_count": null,
      "outputs": [
        {
          "output_type": "execute_result",
          "data": {
            "text/plain": [
              "array([8, 8, 7, ..., 5, 8, 8])"
            ]
          },
          "metadata": {},
          "execution_count": 22
        }
      ]
    },
    {
      "cell_type": "code",
      "source": [
        "plt.figure(figsize=(20,8))\n",
        "sns.countplot(y=df['GENRE'],order=df['GENRE'].value_counts().index)\n",
        "plt.title(\"MOVIE GENRE PREDICTION\")\n",
        "plt.xlabel(\"x-axis\")\n",
        "plt.ylabel(\"y-axis\")"
      ],
      "metadata": {
        "colab": {
          "base_uri": "https://localhost:8080/",
          "height": 386
        },
        "id": "wGtJYNcUgBDV",
        "outputId": "3ddd337f-8aa6-473c-8580-d8ea8d92c3ed"
      },
      "execution_count": null,
      "outputs": [
        {
          "output_type": "execute_result",
          "data": {
            "text/plain": [
              "Text(0, 0.5, 'y-axis')"
            ]
          },
          "metadata": {},
          "execution_count": 23
        },
        {
          "output_type": "display_data",
          "data": {
            "text/plain": [
              "<Figure size 2000x800 with 1 Axes>"
            ],
            "image/png": "[encoded data removed]"
          },
          "metadata": {}
        }
      ]
    },
    {
      "cell_type": "code",
      "source": [
        "def movie_pred(description):\n",
        "  vectorizer_1=vectorizer.transform([description])\n",
        "  prediction_1=v.predict(vectorizer_1)\n",
        "  return le.inverse_transform(prediction)[0]\n",
        "sample=\"The film's title refers not only to the un-recovered bodies at ground zero, but also to the state of the nation at large. Set in the hallucinatory period of time between September 11 and Halloween of 2001, The Unrecovered examines the effect of terror on the average mind, the way a state of heightened anxiety and/or alertness can cause the average person to make the sort of imaginative connections that are normally made only by artists and conspiracy theorists-both of whom figure prominently in this film. The Unrecovered explores the way in which irony, empathy, and paranoia relate to one another in the wake of 9/11.\"\n",
        "print(movie_pred(sample))"
      ],
      "metadata": {
        "colab": {
          "base_uri": "https://localhost:8080/"
        },
        "id": "8a3eZtkegl5u",
        "outputId": "f08343b2-d9aa-4361-ef07-f14db0989496"
      },
      "execution_count": null,
      "outputs": [
        {
          "output_type": "stream",
          "name": "stdout",
          "text": [
            " drama \n"
          ]
        }
      ]
    }
  ]
}